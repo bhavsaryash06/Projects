{
  "nbformat": 4,
  "nbformat_minor": 0,
  "metadata": {
    "colab": {
      "provenance": [],
      "gpuType": "T4"
    },
    "kernelspec": {
      "name": "python3",
      "display_name": "Python 3"
    },
    "language_info": {
      "name": "python"
    },
    "accelerator": "GPU"
  },
  "cells": [
    {
      "cell_type": "markdown",
      "source": [
        "###Literature Review\n",
        "\n",
        "The evolution from Recurrent Neural Networks (RNNs) and Long Short-Term Memory (LSTM) models to Transformer architectures marks a significant milestone in natural language processing and sequence modeling. RNNs were early attempts to capture sequential dependencies, but they faced challenges in handling long-range dependencies due to vanishing or exploding gradients. LSTMs addressed some of these issues by introducing memory cells, enabling better learning of long-term dependencies. However, both RNNs and LSTMs suffer from sequential processing limitations, hindering parallelization.\n",
        "\n",
        "The Transformer model, introduced by Vaswani et al. in 2017, revolutionized sequence modeling by introducing the attention mechanism. This architecture eschews sequential processing in favor of parallelization, making it highly efficient for handling sequential data. The attention mechanism allows the model to focus on different parts of the input sequence when making predictions, addressing the vanishing gradient problem and enabling the capture of long-range dependencies more effectively than its predecessors"
      ],
      "metadata": {
        "id": "TWZPJJGvmU2M"
      }
    },
    {
      "cell_type": "code",
      "source": [
        "# Import necessary libraries\n",
        "from tensorflow.keras.models import Sequential, Model\n",
        "from tensorflow.keras.layers import Input, Embedding, SimpleRNN, LSTM, Dense\n",
        "from tensorflow.keras.datasets import imdb\n",
        "from tensorflow.keras.preprocessing.sequence import pad_sequences\n",
        "from sklearn.model_selection import train_test_split\n",
        "from sklearn.preprocessing import LabelEncoder\n",
        "from transformers import AutoTokenizer, TFBertForSequenceClassification\n",
        "from tensorflow.keras.optimizers import Adam\n",
        "from tensorflow.keras.callbacks import EarlyStopping, ModelCheckpoint\n",
        "import tensorflow as tf\n",
        "import warnings\n",
        "import pandas as pd\n",
        "warnings.filterwarnings('ignore')"
      ],
      "metadata": {
        "id": "y_HDES4eNXV1"
      },
      "execution_count": 34,
      "outputs": []
    },
    {
      "cell_type": "code",
      "source": [
        "# Load IMDB dataset\n",
        "max_features = 10000\n",
        "(x_train, y_train), (x_test, y_test) = imdb.load_data(num_words=max_features)"
      ],
      "metadata": {
        "id": "9Z5Qx6OpNX92"
      },
      "execution_count": 2,
      "outputs": []
    },
    {
      "cell_type": "code",
      "source": [
        "# Preprocess the data\n",
        "maxlen = 100\n",
        "x_train = pad_sequences(x_train, maxlen=maxlen)\n",
        "x_test = pad_sequences(x_test, maxlen=maxlen)"
      ],
      "metadata": {
        "id": "FPf6thpkNbdH"
      },
      "execution_count": 3,
      "outputs": []
    },
    {
      "cell_type": "code",
      "source": [
        "# Build the Simple RNN model\n",
        "model_rnn = Sequential()\n",
        "model_rnn.add(Embedding(max_features, 32, input_length=maxlen))\n",
        "model_rnn.add(SimpleRNN(32))\n",
        "model_rnn.add(Dense(1, activation='sigmoid'))"
      ],
      "metadata": {
        "id": "HaeTXLwRNeHj"
      },
      "execution_count": 4,
      "outputs": []
    },
    {
      "cell_type": "code",
      "source": [
        "# Compile and train the Simple RNN model\n",
        "model_rnn.compile(optimizer='adam', loss='binary_crossentropy', metrics=['accuracy'])\n",
        "model_rnn.fit(x_train, y_train, epochs=10, batch_size=128, validation_split=0.2)"
      ],
      "metadata": {
        "colab": {
          "base_uri": "https://localhost:8080/"
        },
        "id": "9RMd6zETNgfy",
        "outputId": "983ae687-0fcc-4886-93d3-293fa893f70b"
      },
      "execution_count": 5,
      "outputs": [
        {
          "output_type": "stream",
          "name": "stdout",
          "text": [
            "Epoch 1/10\n",
            "157/157 [==============================] - 39s 229ms/step - loss: 0.5806 - accuracy: 0.6731 - val_loss: 0.4185 - val_accuracy: 0.8142\n",
            "Epoch 2/10\n",
            "157/157 [==============================] - 27s 170ms/step - loss: 0.3259 - accuracy: 0.8639 - val_loss: 0.3757 - val_accuracy: 0.8406\n",
            "Epoch 3/10\n",
            "157/157 [==============================] - 23s 146ms/step - loss: 0.2102 - accuracy: 0.9238 - val_loss: 0.3898 - val_accuracy: 0.8376\n",
            "Epoch 4/10\n",
            "157/157 [==============================] - 21s 136ms/step - loss: 0.1182 - accuracy: 0.9621 - val_loss: 0.4533 - val_accuracy: 0.8294\n",
            "Epoch 5/10\n",
            "157/157 [==============================] - 18s 115ms/step - loss: 0.0548 - accuracy: 0.9860 - val_loss: 0.5026 - val_accuracy: 0.8184\n",
            "Epoch 6/10\n",
            "157/157 [==============================] - 19s 118ms/step - loss: 0.0321 - accuracy: 0.9934 - val_loss: 0.6084 - val_accuracy: 0.8270\n",
            "Epoch 7/10\n",
            "157/157 [==============================] - 20s 129ms/step - loss: 0.0129 - accuracy: 0.9980 - val_loss: 0.6724 - val_accuracy: 0.8266\n",
            "Epoch 8/10\n",
            "157/157 [==============================] - 19s 120ms/step - loss: 0.0072 - accuracy: 0.9991 - val_loss: 0.6592 - val_accuracy: 0.8258\n",
            "Epoch 9/10\n",
            "157/157 [==============================] - 20s 125ms/step - loss: 0.0070 - accuracy: 0.9990 - val_loss: 0.6923 - val_accuracy: 0.8176\n",
            "Epoch 10/10\n",
            "157/157 [==============================] - 20s 131ms/step - loss: 0.0103 - accuracy: 0.9977 - val_loss: 0.7337 - val_accuracy: 0.8076\n"
          ]
        },
        {
          "output_type": "execute_result",
          "data": {
            "text/plain": [
              "<keras.src.callbacks.History at 0x7e8b4715f7f0>"
            ]
          },
          "metadata": {},
          "execution_count": 5
        }
      ]
    },
    {
      "cell_type": "code",
      "source": [
        "# Evaluate the performance\n",
        "accuracy_rnn = model_rnn.evaluate(x_test, y_test)[1]\n",
        "print(f\"Accuracy of the Simple RNN model: {accuracy_rnn}\")"
      ],
      "metadata": {
        "colab": {
          "base_uri": "https://localhost:8080/"
        },
        "id": "ZF-AtAZSNknY",
        "outputId": "91cd0bf6-3fae-45de-fd0d-f6856f3c9a7e"
      },
      "execution_count": 6,
      "outputs": [
        {
          "output_type": "stream",
          "name": "stdout",
          "text": [
            "782/782 [==============================] - 8s 10ms/step - loss: 0.7526 - accuracy: 0.8043\n",
            "Accuracy of the Simple RNN model: 0.8042799830436707\n"
          ]
        }
      ]
    },
    {
      "cell_type": "code",
      "source": [
        "# Build the LSTM model\n",
        "model_lstm = Sequential()\n",
        "model_lstm.add(Embedding(max_features, 32, input_length=maxlen))\n",
        "model_lstm.add(LSTM(32))\n",
        "model_lstm.add(Dense(1, activation='sigmoid'))"
      ],
      "metadata": {
        "id": "YZMaYjtZNwpX"
      },
      "execution_count": 7,
      "outputs": []
    },
    {
      "cell_type": "code",
      "source": [
        "# Compile and train the LSTM model\n",
        "model_lstm.compile(optimizer='adam', loss='binary_crossentropy', metrics=['accuracy'])\n",
        "model_lstm.fit(x_train, y_train, epochs=10, batch_size=128, validation_split=0.2)"
      ],
      "metadata": {
        "colab": {
          "base_uri": "https://localhost:8080/"
        },
        "id": "cvPUJJ7aNzTa",
        "outputId": "819f1ca9-a39f-4cba-8f87-84847cfc7981"
      },
      "execution_count": 8,
      "outputs": [
        {
          "output_type": "stream",
          "name": "stdout",
          "text": [
            "Epoch 1/10\n",
            "157/157 [==============================] - 19s 95ms/step - loss: 0.5114 - accuracy: 0.7431 - val_loss: 0.3947 - val_accuracy: 0.8300\n",
            "Epoch 2/10\n",
            "157/157 [==============================] - 7s 47ms/step - loss: 0.2851 - accuracy: 0.8871 - val_loss: 0.3500 - val_accuracy: 0.8488\n",
            "Epoch 3/10\n",
            "157/157 [==============================] - 6s 41ms/step - loss: 0.2157 - accuracy: 0.9212 - val_loss: 0.3613 - val_accuracy: 0.8470\n",
            "Epoch 4/10\n",
            "157/157 [==============================] - 4s 25ms/step - loss: 0.1699 - accuracy: 0.9406 - val_loss: 0.3854 - val_accuracy: 0.8320\n",
            "Epoch 5/10\n",
            "157/157 [==============================] - 3s 19ms/step - loss: 0.1455 - accuracy: 0.9514 - val_loss: 0.4690 - val_accuracy: 0.8284\n",
            "Epoch 6/10\n",
            "157/157 [==============================] - 4s 24ms/step - loss: 0.1096 - accuracy: 0.9658 - val_loss: 0.5059 - val_accuracy: 0.8334\n",
            "Epoch 7/10\n",
            "157/157 [==============================] - 3s 16ms/step - loss: 0.0886 - accuracy: 0.9739 - val_loss: 0.5591 - val_accuracy: 0.8226\n",
            "Epoch 8/10\n",
            "157/157 [==============================] - 3s 19ms/step - loss: 0.0733 - accuracy: 0.9775 - val_loss: 0.6173 - val_accuracy: 0.8180\n",
            "Epoch 9/10\n",
            "157/157 [==============================] - 2s 12ms/step - loss: 0.0624 - accuracy: 0.9821 - val_loss: 0.6849 - val_accuracy: 0.8204\n",
            "Epoch 10/10\n",
            "157/157 [==============================] - 2s 11ms/step - loss: 0.0640 - accuracy: 0.9804 - val_loss: 0.6450 - val_accuracy: 0.8208\n"
          ]
        },
        {
          "output_type": "execute_result",
          "data": {
            "text/plain": [
              "<keras.src.callbacks.History at 0x7e8b4a04ffd0>"
            ]
          },
          "metadata": {},
          "execution_count": 8
        }
      ]
    },
    {
      "cell_type": "code",
      "source": [
        "# Evaluate the performance\n",
        "accuracy_lstm = model_lstm.evaluate(x_test, y_test)[1]\n",
        "print(f\"Accuracy of the LSTM model: {accuracy_lstm}\")"
      ],
      "metadata": {
        "colab": {
          "base_uri": "https://localhost:8080/"
        },
        "id": "eFLhzHFwN2CJ",
        "outputId": "7299e80f-c59c-46c1-ecec-a46d65e0a2f5"
      },
      "execution_count": 9,
      "outputs": [
        {
          "output_type": "stream",
          "name": "stdout",
          "text": [
            "782/782 [==============================] - 4s 5ms/step - loss: 0.6577 - accuracy: 0.8218\n",
            "Accuracy of the LSTM model: 0.8217599987983704\n"
          ]
        }
      ]
    },
    {
      "cell_type": "code",
      "source": [
        "# Import necessary libraries\n",
        "from tensorflow.keras.models import Model\n",
        "from tensorflow.keras.layers import Input, Embedding, LSTM, Dense, Attention, GlobalAveragePooling1D, Dot, concatenate"
      ],
      "metadata": {
        "id": "5LyUulMkN4kY"
      },
      "execution_count": 10,
      "outputs": []
    },
    {
      "cell_type": "code",
      "source": [
        "# Build the LSTM model with attention\n",
        "input_layer = Input(shape=(maxlen,))\n",
        "embedding_layer = Embedding(max_features, 32)(input_layer)\n",
        "lstm_layer, state_h, state_c = LSTM(32, return_sequences=True, return_state=True)(embedding_layer)\n",
        "attention = Attention()([lstm_layer, lstm_layer])\n",
        "context = Dot(axes=-1)([attention, lstm_layer])\n",
        "merged = concatenate([context, lstm_layer])\n",
        "pooled = GlobalAveragePooling1D()(merged)\n",
        "output = Dense(1, activation='sigmoid')(pooled)\n",
        "\n",
        "model_lstm_attention = Model(inputs=input_layer, outputs=output)"
      ],
      "metadata": {
        "id": "InRrq3hQN9dR"
      },
      "execution_count": 11,
      "outputs": []
    },
    {
      "cell_type": "code",
      "source": [
        "# Compile and train the LSTM model with attention\n",
        "model_lstm_attention.compile(optimizer='adam', loss='binary_crossentropy', metrics=['accuracy'])\n",
        "model_lstm_attention.fit(x_train, y_train, epochs=10, batch_size=128, validation_split=0.2)"
      ],
      "metadata": {
        "colab": {
          "base_uri": "https://localhost:8080/"
        },
        "id": "epuzhHekN_8a",
        "outputId": "fd1fae64-18a2-489c-a4ab-53fcf28e32c3"
      },
      "execution_count": 12,
      "outputs": [
        {
          "output_type": "stream",
          "name": "stdout",
          "text": [
            "Epoch 1/10\n",
            "157/157 [==============================] - 19s 102ms/step - loss: 0.6026 - accuracy: 0.6938 - val_loss: 0.5172 - val_accuracy: 0.8018\n",
            "Epoch 2/10\n",
            "157/157 [==============================] - 7s 42ms/step - loss: 0.3955 - accuracy: 0.8452 - val_loss: 0.4358 - val_accuracy: 0.7964\n",
            "Epoch 3/10\n",
            "157/157 [==============================] - 7s 42ms/step - loss: 0.2937 - accuracy: 0.8842 - val_loss: 0.4168 - val_accuracy: 0.8094\n",
            "Epoch 4/10\n",
            "157/157 [==============================] - 4s 29ms/step - loss: 0.2337 - accuracy: 0.9134 - val_loss: 0.4732 - val_accuracy: 0.8062\n",
            "Epoch 5/10\n",
            "157/157 [==============================] - 2s 15ms/step - loss: 0.1908 - accuracy: 0.9325 - val_loss: 0.5493 - val_accuracy: 0.7896\n",
            "Epoch 6/10\n",
            "157/157 [==============================] - 3s 21ms/step - loss: 0.1626 - accuracy: 0.9430 - val_loss: 0.5613 - val_accuracy: 0.7986\n",
            "Epoch 7/10\n",
            "157/157 [==============================] - 3s 19ms/step - loss: 0.1306 - accuracy: 0.9570 - val_loss: 0.6490 - val_accuracy: 0.7954\n",
            "Epoch 8/10\n",
            "157/157 [==============================] - 3s 17ms/step - loss: 0.1094 - accuracy: 0.9650 - val_loss: 0.7458 - val_accuracy: 0.7998\n",
            "Epoch 9/10\n",
            "157/157 [==============================] - 2s 13ms/step - loss: 0.0965 - accuracy: 0.9700 - val_loss: 0.6844 - val_accuracy: 0.8020\n",
            "Epoch 10/10\n",
            "157/157 [==============================] - 2s 15ms/step - loss: 0.0920 - accuracy: 0.9722 - val_loss: 0.8443 - val_accuracy: 0.7904\n"
          ]
        },
        {
          "output_type": "execute_result",
          "data": {
            "text/plain": [
              "<keras.src.callbacks.History at 0x7e8b49e1fc70>"
            ]
          },
          "metadata": {},
          "execution_count": 12
        }
      ]
    },
    {
      "cell_type": "code",
      "source": [
        "# Evaluate the performance\n",
        "accuracy_lstm_attention = model_lstm_attention.evaluate(x_test, y_test)[1]\n",
        "print(f\"Accuracy of the LSTM with Attention model: {accuracy_lstm_attention}\")"
      ],
      "metadata": {
        "colab": {
          "base_uri": "https://localhost:8080/"
        },
        "id": "1IdFguMmOCcH",
        "outputId": "f370752d-1976-4770-8c4e-94130c8687d1"
      },
      "execution_count": 13,
      "outputs": [
        {
          "output_type": "stream",
          "name": "stdout",
          "text": [
            "782/782 [==============================] - 4s 5ms/step - loss: 0.8715 - accuracy: 0.7873\n",
            "Accuracy of the LSTM with Attention model: 0.7872800230979919\n"
          ]
        }
      ]
    },
    {
      "cell_type": "code",
      "source": [
        "# Load the CSV file for Amazon review dataset\n",
        "amazon_df = pd.read_csv('/content/sample_data/amazon_reviews_sample.csv')"
      ],
      "metadata": {
        "id": "FmNpdoy7aYbg"
      },
      "execution_count": 14,
      "outputs": []
    },
    {
      "cell_type": "code",
      "source": [
        "amazon_df"
      ],
      "metadata": {
        "colab": {
          "base_uri": "https://localhost:8080/",
          "height": 423
        },
        "id": "Z_AgwpD3qMNW",
        "outputId": "5a6cbef3-1374-4b31-c499-68f0c1d4e747"
      },
      "execution_count": 15,
      "outputs": [
        {
          "output_type": "execute_result",
          "data": {
            "text/plain": [
              "      Unnamed: 0  score                                             review\n",
              "0              0      1   Stuning even for the non-gamer: This sound tr...\n",
              "1              1      1   The best soundtrack ever to anything.: I'm re...\n",
              "2              2      1   Amazing!: This soundtrack is my favorite musi...\n",
              "3              3      1   Excellent Soundtrack: I truly like this sound...\n",
              "4              4      1   Remember, Pull Your Jaw Off The Floor After H...\n",
              "...          ...    ...                                                ...\n",
              "9995        9995      1   A revelation of life in small town America in...\n",
              "9996        9996      1   Great biography of a very interesting journal...\n",
              "9997        9997      0   Interesting Subject; Poor Presentation: You'd...\n",
              "9998        9998      0   Don't buy: The box looked used and it is obvi...\n",
              "9999        9999      1   Beautiful Pen and Fast Delivery.: The pen was...\n",
              "\n",
              "[10000 rows x 3 columns]"
            ],
            "text/html": [
              "\n",
              "  <div id=\"df-3798078e-573c-4cc7-8bfe-f7810224411b\" class=\"colab-df-container\">\n",
              "    <div>\n",
              "<style scoped>\n",
              "    .dataframe tbody tr th:only-of-type {\n",
              "        vertical-align: middle;\n",
              "    }\n",
              "\n",
              "    .dataframe tbody tr th {\n",
              "        vertical-align: top;\n",
              "    }\n",
              "\n",
              "    .dataframe thead th {\n",
              "        text-align: right;\n",
              "    }\n",
              "</style>\n",
              "<table border=\"1\" class=\"dataframe\">\n",
              "  <thead>\n",
              "    <tr style=\"text-align: right;\">\n",
              "      <th></th>\n",
              "      <th>Unnamed: 0</th>\n",
              "      <th>score</th>\n",
              "      <th>review</th>\n",
              "    </tr>\n",
              "  </thead>\n",
              "  <tbody>\n",
              "    <tr>\n",
              "      <th>0</th>\n",
              "      <td>0</td>\n",
              "      <td>1</td>\n",
              "      <td>Stuning even for the non-gamer: This sound tr...</td>\n",
              "    </tr>\n",
              "    <tr>\n",
              "      <th>1</th>\n",
              "      <td>1</td>\n",
              "      <td>1</td>\n",
              "      <td>The best soundtrack ever to anything.: I'm re...</td>\n",
              "    </tr>\n",
              "    <tr>\n",
              "      <th>2</th>\n",
              "      <td>2</td>\n",
              "      <td>1</td>\n",
              "      <td>Amazing!: This soundtrack is my favorite musi...</td>\n",
              "    </tr>\n",
              "    <tr>\n",
              "      <th>3</th>\n",
              "      <td>3</td>\n",
              "      <td>1</td>\n",
              "      <td>Excellent Soundtrack: I truly like this sound...</td>\n",
              "    </tr>\n",
              "    <tr>\n",
              "      <th>4</th>\n",
              "      <td>4</td>\n",
              "      <td>1</td>\n",
              "      <td>Remember, Pull Your Jaw Off The Floor After H...</td>\n",
              "    </tr>\n",
              "    <tr>\n",
              "      <th>...</th>\n",
              "      <td>...</td>\n",
              "      <td>...</td>\n",
              "      <td>...</td>\n",
              "    </tr>\n",
              "    <tr>\n",
              "      <th>9995</th>\n",
              "      <td>9995</td>\n",
              "      <td>1</td>\n",
              "      <td>A revelation of life in small town America in...</td>\n",
              "    </tr>\n",
              "    <tr>\n",
              "      <th>9996</th>\n",
              "      <td>9996</td>\n",
              "      <td>1</td>\n",
              "      <td>Great biography of a very interesting journal...</td>\n",
              "    </tr>\n",
              "    <tr>\n",
              "      <th>9997</th>\n",
              "      <td>9997</td>\n",
              "      <td>0</td>\n",
              "      <td>Interesting Subject; Poor Presentation: You'd...</td>\n",
              "    </tr>\n",
              "    <tr>\n",
              "      <th>9998</th>\n",
              "      <td>9998</td>\n",
              "      <td>0</td>\n",
              "      <td>Don't buy: The box looked used and it is obvi...</td>\n",
              "    </tr>\n",
              "    <tr>\n",
              "      <th>9999</th>\n",
              "      <td>9999</td>\n",
              "      <td>1</td>\n",
              "      <td>Beautiful Pen and Fast Delivery.: The pen was...</td>\n",
              "    </tr>\n",
              "  </tbody>\n",
              "</table>\n",
              "<p>10000 rows × 3 columns</p>\n",
              "</div>\n",
              "    <div class=\"colab-df-buttons\">\n",
              "\n",
              "  <div class=\"colab-df-container\">\n",
              "    <button class=\"colab-df-convert\" onclick=\"convertToInteractive('df-3798078e-573c-4cc7-8bfe-f7810224411b')\"\n",
              "            title=\"Convert this dataframe to an interactive table.\"\n",
              "            style=\"display:none;\">\n",
              "\n",
              "  <svg xmlns=\"http://www.w3.org/2000/svg\" height=\"24px\" viewBox=\"0 -960 960 960\">\n",
              "    <path d=\"M120-120v-720h720v720H120Zm60-500h600v-160H180v160Zm220 220h160v-160H400v160Zm0 220h160v-160H400v160ZM180-400h160v-160H180v160Zm440 0h160v-160H620v160ZM180-180h160v-160H180v160Zm440 0h160v-160H620v160Z\"/>\n",
              "  </svg>\n",
              "    </button>\n",
              "\n",
              "  <style>\n",
              "    .colab-df-container {\n",
              "      display:flex;\n",
              "      gap: 12px;\n",
              "    }\n",
              "\n",
              "    .colab-df-convert {\n",
              "      background-color: #E8F0FE;\n",
              "      border: none;\n",
              "      border-radius: 50%;\n",
              "      cursor: pointer;\n",
              "      display: none;\n",
              "      fill: #1967D2;\n",
              "      height: 32px;\n",
              "      padding: 0 0 0 0;\n",
              "      width: 32px;\n",
              "    }\n",
              "\n",
              "    .colab-df-convert:hover {\n",
              "      background-color: #E2EBFA;\n",
              "      box-shadow: 0px 1px 2px rgba(60, 64, 67, 0.3), 0px 1px 3px 1px rgba(60, 64, 67, 0.15);\n",
              "      fill: #174EA6;\n",
              "    }\n",
              "\n",
              "    .colab-df-buttons div {\n",
              "      margin-bottom: 4px;\n",
              "    }\n",
              "\n",
              "    [theme=dark] .colab-df-convert {\n",
              "      background-color: #3B4455;\n",
              "      fill: #D2E3FC;\n",
              "    }\n",
              "\n",
              "    [theme=dark] .colab-df-convert:hover {\n",
              "      background-color: #434B5C;\n",
              "      box-shadow: 0px 1px 3px 1px rgba(0, 0, 0, 0.15);\n",
              "      filter: drop-shadow(0px 1px 2px rgba(0, 0, 0, 0.3));\n",
              "      fill: #FFFFFF;\n",
              "    }\n",
              "  </style>\n",
              "\n",
              "    <script>\n",
              "      const buttonEl =\n",
              "        document.querySelector('#df-3798078e-573c-4cc7-8bfe-f7810224411b button.colab-df-convert');\n",
              "      buttonEl.style.display =\n",
              "        google.colab.kernel.accessAllowed ? 'block' : 'none';\n",
              "\n",
              "      async function convertToInteractive(key) {\n",
              "        const element = document.querySelector('#df-3798078e-573c-4cc7-8bfe-f7810224411b');\n",
              "        const dataTable =\n",
              "          await google.colab.kernel.invokeFunction('convertToInteractive',\n",
              "                                                    [key], {});\n",
              "        if (!dataTable) return;\n",
              "\n",
              "        const docLinkHtml = 'Like what you see? Visit the ' +\n",
              "          '<a target=\"_blank\" href=https://colab.research.google.com/notebooks/data_table.ipynb>data table notebook</a>'\n",
              "          + ' to learn more about interactive tables.';\n",
              "        element.innerHTML = '';\n",
              "        dataTable['output_type'] = 'display_data';\n",
              "        await google.colab.output.renderOutput(dataTable, element);\n",
              "        const docLink = document.createElement('div');\n",
              "        docLink.innerHTML = docLinkHtml;\n",
              "        element.appendChild(docLink);\n",
              "      }\n",
              "    </script>\n",
              "  </div>\n",
              "\n",
              "\n",
              "<div id=\"df-a740a438-b257-432a-9cbe-f182eefac726\">\n",
              "  <button class=\"colab-df-quickchart\" onclick=\"quickchart('df-a740a438-b257-432a-9cbe-f182eefac726')\"\n",
              "            title=\"Suggest charts\"\n",
              "            style=\"display:none;\">\n",
              "\n",
              "<svg xmlns=\"http://www.w3.org/2000/svg\" height=\"24px\"viewBox=\"0 0 24 24\"\n",
              "     width=\"24px\">\n",
              "    <g>\n",
              "        <path d=\"M19 3H5c-1.1 0-2 .9-2 2v14c0 1.1.9 2 2 2h14c1.1 0 2-.9 2-2V5c0-1.1-.9-2-2-2zM9 17H7v-7h2v7zm4 0h-2V7h2v10zm4 0h-2v-4h2v4z\"/>\n",
              "    </g>\n",
              "</svg>\n",
              "  </button>\n",
              "\n",
              "<style>\n",
              "  .colab-df-quickchart {\n",
              "      --bg-color: #E8F0FE;\n",
              "      --fill-color: #1967D2;\n",
              "      --hover-bg-color: #E2EBFA;\n",
              "      --hover-fill-color: #174EA6;\n",
              "      --disabled-fill-color: #AAA;\n",
              "      --disabled-bg-color: #DDD;\n",
              "  }\n",
              "\n",
              "  [theme=dark] .colab-df-quickchart {\n",
              "      --bg-color: #3B4455;\n",
              "      --fill-color: #D2E3FC;\n",
              "      --hover-bg-color: #434B5C;\n",
              "      --hover-fill-color: #FFFFFF;\n",
              "      --disabled-bg-color: #3B4455;\n",
              "      --disabled-fill-color: #666;\n",
              "  }\n",
              "\n",
              "  .colab-df-quickchart {\n",
              "    background-color: var(--bg-color);\n",
              "    border: none;\n",
              "    border-radius: 50%;\n",
              "    cursor: pointer;\n",
              "    display: none;\n",
              "    fill: var(--fill-color);\n",
              "    height: 32px;\n",
              "    padding: 0;\n",
              "    width: 32px;\n",
              "  }\n",
              "\n",
              "  .colab-df-quickchart:hover {\n",
              "    background-color: var(--hover-bg-color);\n",
              "    box-shadow: 0 1px 2px rgba(60, 64, 67, 0.3), 0 1px 3px 1px rgba(60, 64, 67, 0.15);\n",
              "    fill: var(--button-hover-fill-color);\n",
              "  }\n",
              "\n",
              "  .colab-df-quickchart-complete:disabled,\n",
              "  .colab-df-quickchart-complete:disabled:hover {\n",
              "    background-color: var(--disabled-bg-color);\n",
              "    fill: var(--disabled-fill-color);\n",
              "    box-shadow: none;\n",
              "  }\n",
              "\n",
              "  .colab-df-spinner {\n",
              "    border: 2px solid var(--fill-color);\n",
              "    border-color: transparent;\n",
              "    border-bottom-color: var(--fill-color);\n",
              "    animation:\n",
              "      spin 1s steps(1) infinite;\n",
              "  }\n",
              "\n",
              "  @keyframes spin {\n",
              "    0% {\n",
              "      border-color: transparent;\n",
              "      border-bottom-color: var(--fill-color);\n",
              "      border-left-color: var(--fill-color);\n",
              "    }\n",
              "    20% {\n",
              "      border-color: transparent;\n",
              "      border-left-color: var(--fill-color);\n",
              "      border-top-color: var(--fill-color);\n",
              "    }\n",
              "    30% {\n",
              "      border-color: transparent;\n",
              "      border-left-color: var(--fill-color);\n",
              "      border-top-color: var(--fill-color);\n",
              "      border-right-color: var(--fill-color);\n",
              "    }\n",
              "    40% {\n",
              "      border-color: transparent;\n",
              "      border-right-color: var(--fill-color);\n",
              "      border-top-color: var(--fill-color);\n",
              "    }\n",
              "    60% {\n",
              "      border-color: transparent;\n",
              "      border-right-color: var(--fill-color);\n",
              "    }\n",
              "    80% {\n",
              "      border-color: transparent;\n",
              "      border-right-color: var(--fill-color);\n",
              "      border-bottom-color: var(--fill-color);\n",
              "    }\n",
              "    90% {\n",
              "      border-color: transparent;\n",
              "      border-bottom-color: var(--fill-color);\n",
              "    }\n",
              "  }\n",
              "</style>\n",
              "\n",
              "  <script>\n",
              "    async function quickchart(key) {\n",
              "      const quickchartButtonEl =\n",
              "        document.querySelector('#' + key + ' button');\n",
              "      quickchartButtonEl.disabled = true;  // To prevent multiple clicks.\n",
              "      quickchartButtonEl.classList.add('colab-df-spinner');\n",
              "      try {\n",
              "        const charts = await google.colab.kernel.invokeFunction(\n",
              "            'suggestCharts', [key], {});\n",
              "      } catch (error) {\n",
              "        console.error('Error during call to suggestCharts:', error);\n",
              "      }\n",
              "      quickchartButtonEl.classList.remove('colab-df-spinner');\n",
              "      quickchartButtonEl.classList.add('colab-df-quickchart-complete');\n",
              "    }\n",
              "    (() => {\n",
              "      let quickchartButtonEl =\n",
              "        document.querySelector('#df-a740a438-b257-432a-9cbe-f182eefac726 button');\n",
              "      quickchartButtonEl.style.display =\n",
              "        google.colab.kernel.accessAllowed ? 'block' : 'none';\n",
              "    })();\n",
              "  </script>\n",
              "</div>\n",
              "    </div>\n",
              "  </div>\n"
            ]
          },
          "metadata": {},
          "execution_count": 15
        }
      ]
    },
    {
      "cell_type": "code",
      "source": [
        "amazon_df.info()"
      ],
      "metadata": {
        "colab": {
          "base_uri": "https://localhost:8080/"
        },
        "id": "E-WpM8AzqXJk",
        "outputId": "36470acf-789e-4923-8806-6f30e2c08ab1"
      },
      "execution_count": 16,
      "outputs": [
        {
          "output_type": "stream",
          "name": "stdout",
          "text": [
            "<class 'pandas.core.frame.DataFrame'>\n",
            "RangeIndex: 10000 entries, 0 to 9999\n",
            "Data columns (total 3 columns):\n",
            " #   Column      Non-Null Count  Dtype \n",
            "---  ------      --------------  ----- \n",
            " 0   Unnamed: 0  10000 non-null  int64 \n",
            " 1   score       10000 non-null  int64 \n",
            " 2   review      10000 non-null  object\n",
            "dtypes: int64(2), object(1)\n",
            "memory usage: 234.5+ KB\n"
          ]
        }
      ]
    },
    {
      "cell_type": "code",
      "source": [
        "amazon_df = amazon_df.drop('Unnamed: 0', axis=1)"
      ],
      "metadata": {
        "id": "eFtyvWSktkJQ"
      },
      "execution_count": 17,
      "outputs": []
    },
    {
      "cell_type": "code",
      "source": [
        "amazon_df"
      ],
      "metadata": {
        "colab": {
          "base_uri": "https://localhost:8080/",
          "height": 423
        },
        "id": "SFtcorxbtv7x",
        "outputId": "a02819be-661f-4262-8f77-1016e4c9cacb"
      },
      "execution_count": 18,
      "outputs": [
        {
          "output_type": "execute_result",
          "data": {
            "text/plain": [
              "      score                                             review\n",
              "0         1   Stuning even for the non-gamer: This sound tr...\n",
              "1         1   The best soundtrack ever to anything.: I'm re...\n",
              "2         1   Amazing!: This soundtrack is my favorite musi...\n",
              "3         1   Excellent Soundtrack: I truly like this sound...\n",
              "4         1   Remember, Pull Your Jaw Off The Floor After H...\n",
              "...     ...                                                ...\n",
              "9995      1   A revelation of life in small town America in...\n",
              "9996      1   Great biography of a very interesting journal...\n",
              "9997      0   Interesting Subject; Poor Presentation: You'd...\n",
              "9998      0   Don't buy: The box looked used and it is obvi...\n",
              "9999      1   Beautiful Pen and Fast Delivery.: The pen was...\n",
              "\n",
              "[10000 rows x 2 columns]"
            ],
            "text/html": [
              "\n",
              "  <div id=\"df-aa991633-d3ab-4367-b4f6-ccc42dcce29e\" class=\"colab-df-container\">\n",
              "    <div>\n",
              "<style scoped>\n",
              "    .dataframe tbody tr th:only-of-type {\n",
              "        vertical-align: middle;\n",
              "    }\n",
              "\n",
              "    .dataframe tbody tr th {\n",
              "        vertical-align: top;\n",
              "    }\n",
              "\n",
              "    .dataframe thead th {\n",
              "        text-align: right;\n",
              "    }\n",
              "</style>\n",
              "<table border=\"1\" class=\"dataframe\">\n",
              "  <thead>\n",
              "    <tr style=\"text-align: right;\">\n",
              "      <th></th>\n",
              "      <th>score</th>\n",
              "      <th>review</th>\n",
              "    </tr>\n",
              "  </thead>\n",
              "  <tbody>\n",
              "    <tr>\n",
              "      <th>0</th>\n",
              "      <td>1</td>\n",
              "      <td>Stuning even for the non-gamer: This sound tr...</td>\n",
              "    </tr>\n",
              "    <tr>\n",
              "      <th>1</th>\n",
              "      <td>1</td>\n",
              "      <td>The best soundtrack ever to anything.: I'm re...</td>\n",
              "    </tr>\n",
              "    <tr>\n",
              "      <th>2</th>\n",
              "      <td>1</td>\n",
              "      <td>Amazing!: This soundtrack is my favorite musi...</td>\n",
              "    </tr>\n",
              "    <tr>\n",
              "      <th>3</th>\n",
              "      <td>1</td>\n",
              "      <td>Excellent Soundtrack: I truly like this sound...</td>\n",
              "    </tr>\n",
              "    <tr>\n",
              "      <th>4</th>\n",
              "      <td>1</td>\n",
              "      <td>Remember, Pull Your Jaw Off The Floor After H...</td>\n",
              "    </tr>\n",
              "    <tr>\n",
              "      <th>...</th>\n",
              "      <td>...</td>\n",
              "      <td>...</td>\n",
              "    </tr>\n",
              "    <tr>\n",
              "      <th>9995</th>\n",
              "      <td>1</td>\n",
              "      <td>A revelation of life in small town America in...</td>\n",
              "    </tr>\n",
              "    <tr>\n",
              "      <th>9996</th>\n",
              "      <td>1</td>\n",
              "      <td>Great biography of a very interesting journal...</td>\n",
              "    </tr>\n",
              "    <tr>\n",
              "      <th>9997</th>\n",
              "      <td>0</td>\n",
              "      <td>Interesting Subject; Poor Presentation: You'd...</td>\n",
              "    </tr>\n",
              "    <tr>\n",
              "      <th>9998</th>\n",
              "      <td>0</td>\n",
              "      <td>Don't buy: The box looked used and it is obvi...</td>\n",
              "    </tr>\n",
              "    <tr>\n",
              "      <th>9999</th>\n",
              "      <td>1</td>\n",
              "      <td>Beautiful Pen and Fast Delivery.: The pen was...</td>\n",
              "    </tr>\n",
              "  </tbody>\n",
              "</table>\n",
              "<p>10000 rows × 2 columns</p>\n",
              "</div>\n",
              "    <div class=\"colab-df-buttons\">\n",
              "\n",
              "  <div class=\"colab-df-container\">\n",
              "    <button class=\"colab-df-convert\" onclick=\"convertToInteractive('df-aa991633-d3ab-4367-b4f6-ccc42dcce29e')\"\n",
              "            title=\"Convert this dataframe to an interactive table.\"\n",
              "            style=\"display:none;\">\n",
              "\n",
              "  <svg xmlns=\"http://www.w3.org/2000/svg\" height=\"24px\" viewBox=\"0 -960 960 960\">\n",
              "    <path d=\"M120-120v-720h720v720H120Zm60-500h600v-160H180v160Zm220 220h160v-160H400v160Zm0 220h160v-160H400v160ZM180-400h160v-160H180v160Zm440 0h160v-160H620v160ZM180-180h160v-160H180v160Zm440 0h160v-160H620v160Z\"/>\n",
              "  </svg>\n",
              "    </button>\n",
              "\n",
              "  <style>\n",
              "    .colab-df-container {\n",
              "      display:flex;\n",
              "      gap: 12px;\n",
              "    }\n",
              "\n",
              "    .colab-df-convert {\n",
              "      background-color: #E8F0FE;\n",
              "      border: none;\n",
              "      border-radius: 50%;\n",
              "      cursor: pointer;\n",
              "      display: none;\n",
              "      fill: #1967D2;\n",
              "      height: 32px;\n",
              "      padding: 0 0 0 0;\n",
              "      width: 32px;\n",
              "    }\n",
              "\n",
              "    .colab-df-convert:hover {\n",
              "      background-color: #E2EBFA;\n",
              "      box-shadow: 0px 1px 2px rgba(60, 64, 67, 0.3), 0px 1px 3px 1px rgba(60, 64, 67, 0.15);\n",
              "      fill: #174EA6;\n",
              "    }\n",
              "\n",
              "    .colab-df-buttons div {\n",
              "      margin-bottom: 4px;\n",
              "    }\n",
              "\n",
              "    [theme=dark] .colab-df-convert {\n",
              "      background-color: #3B4455;\n",
              "      fill: #D2E3FC;\n",
              "    }\n",
              "\n",
              "    [theme=dark] .colab-df-convert:hover {\n",
              "      background-color: #434B5C;\n",
              "      box-shadow: 0px 1px 3px 1px rgba(0, 0, 0, 0.15);\n",
              "      filter: drop-shadow(0px 1px 2px rgba(0, 0, 0, 0.3));\n",
              "      fill: #FFFFFF;\n",
              "    }\n",
              "  </style>\n",
              "\n",
              "    <script>\n",
              "      const buttonEl =\n",
              "        document.querySelector('#df-aa991633-d3ab-4367-b4f6-ccc42dcce29e button.colab-df-convert');\n",
              "      buttonEl.style.display =\n",
              "        google.colab.kernel.accessAllowed ? 'block' : 'none';\n",
              "\n",
              "      async function convertToInteractive(key) {\n",
              "        const element = document.querySelector('#df-aa991633-d3ab-4367-b4f6-ccc42dcce29e');\n",
              "        const dataTable =\n",
              "          await google.colab.kernel.invokeFunction('convertToInteractive',\n",
              "                                                    [key], {});\n",
              "        if (!dataTable) return;\n",
              "\n",
              "        const docLinkHtml = 'Like what you see? Visit the ' +\n",
              "          '<a target=\"_blank\" href=https://colab.research.google.com/notebooks/data_table.ipynb>data table notebook</a>'\n",
              "          + ' to learn more about interactive tables.';\n",
              "        element.innerHTML = '';\n",
              "        dataTable['output_type'] = 'display_data';\n",
              "        await google.colab.output.renderOutput(dataTable, element);\n",
              "        const docLink = document.createElement('div');\n",
              "        docLink.innerHTML = docLinkHtml;\n",
              "        element.appendChild(docLink);\n",
              "      }\n",
              "    </script>\n",
              "  </div>\n",
              "\n",
              "\n",
              "<div id=\"df-03839729-6b75-438a-b5df-d3764f3797dc\">\n",
              "  <button class=\"colab-df-quickchart\" onclick=\"quickchart('df-03839729-6b75-438a-b5df-d3764f3797dc')\"\n",
              "            title=\"Suggest charts\"\n",
              "            style=\"display:none;\">\n",
              "\n",
              "<svg xmlns=\"http://www.w3.org/2000/svg\" height=\"24px\"viewBox=\"0 0 24 24\"\n",
              "     width=\"24px\">\n",
              "    <g>\n",
              "        <path d=\"M19 3H5c-1.1 0-2 .9-2 2v14c0 1.1.9 2 2 2h14c1.1 0 2-.9 2-2V5c0-1.1-.9-2-2-2zM9 17H7v-7h2v7zm4 0h-2V7h2v10zm4 0h-2v-4h2v4z\"/>\n",
              "    </g>\n",
              "</svg>\n",
              "  </button>\n",
              "\n",
              "<style>\n",
              "  .colab-df-quickchart {\n",
              "      --bg-color: #E8F0FE;\n",
              "      --fill-color: #1967D2;\n",
              "      --hover-bg-color: #E2EBFA;\n",
              "      --hover-fill-color: #174EA6;\n",
              "      --disabled-fill-color: #AAA;\n",
              "      --disabled-bg-color: #DDD;\n",
              "  }\n",
              "\n",
              "  [theme=dark] .colab-df-quickchart {\n",
              "      --bg-color: #3B4455;\n",
              "      --fill-color: #D2E3FC;\n",
              "      --hover-bg-color: #434B5C;\n",
              "      --hover-fill-color: #FFFFFF;\n",
              "      --disabled-bg-color: #3B4455;\n",
              "      --disabled-fill-color: #666;\n",
              "  }\n",
              "\n",
              "  .colab-df-quickchart {\n",
              "    background-color: var(--bg-color);\n",
              "    border: none;\n",
              "    border-radius: 50%;\n",
              "    cursor: pointer;\n",
              "    display: none;\n",
              "    fill: var(--fill-color);\n",
              "    height: 32px;\n",
              "    padding: 0;\n",
              "    width: 32px;\n",
              "  }\n",
              "\n",
              "  .colab-df-quickchart:hover {\n",
              "    background-color: var(--hover-bg-color);\n",
              "    box-shadow: 0 1px 2px rgba(60, 64, 67, 0.3), 0 1px 3px 1px rgba(60, 64, 67, 0.15);\n",
              "    fill: var(--button-hover-fill-color);\n",
              "  }\n",
              "\n",
              "  .colab-df-quickchart-complete:disabled,\n",
              "  .colab-df-quickchart-complete:disabled:hover {\n",
              "    background-color: var(--disabled-bg-color);\n",
              "    fill: var(--disabled-fill-color);\n",
              "    box-shadow: none;\n",
              "  }\n",
              "\n",
              "  .colab-df-spinner {\n",
              "    border: 2px solid var(--fill-color);\n",
              "    border-color: transparent;\n",
              "    border-bottom-color: var(--fill-color);\n",
              "    animation:\n",
              "      spin 1s steps(1) infinite;\n",
              "  }\n",
              "\n",
              "  @keyframes spin {\n",
              "    0% {\n",
              "      border-color: transparent;\n",
              "      border-bottom-color: var(--fill-color);\n",
              "      border-left-color: var(--fill-color);\n",
              "    }\n",
              "    20% {\n",
              "      border-color: transparent;\n",
              "      border-left-color: var(--fill-color);\n",
              "      border-top-color: var(--fill-color);\n",
              "    }\n",
              "    30% {\n",
              "      border-color: transparent;\n",
              "      border-left-color: var(--fill-color);\n",
              "      border-top-color: var(--fill-color);\n",
              "      border-right-color: var(--fill-color);\n",
              "    }\n",
              "    40% {\n",
              "      border-color: transparent;\n",
              "      border-right-color: var(--fill-color);\n",
              "      border-top-color: var(--fill-color);\n",
              "    }\n",
              "    60% {\n",
              "      border-color: transparent;\n",
              "      border-right-color: var(--fill-color);\n",
              "    }\n",
              "    80% {\n",
              "      border-color: transparent;\n",
              "      border-right-color: var(--fill-color);\n",
              "      border-bottom-color: var(--fill-color);\n",
              "    }\n",
              "    90% {\n",
              "      border-color: transparent;\n",
              "      border-bottom-color: var(--fill-color);\n",
              "    }\n",
              "  }\n",
              "</style>\n",
              "\n",
              "  <script>\n",
              "    async function quickchart(key) {\n",
              "      const quickchartButtonEl =\n",
              "        document.querySelector('#' + key + ' button');\n",
              "      quickchartButtonEl.disabled = true;  // To prevent multiple clicks.\n",
              "      quickchartButtonEl.classList.add('colab-df-spinner');\n",
              "      try {\n",
              "        const charts = await google.colab.kernel.invokeFunction(\n",
              "            'suggestCharts', [key], {});\n",
              "      } catch (error) {\n",
              "        console.error('Error during call to suggestCharts:', error);\n",
              "      }\n",
              "      quickchartButtonEl.classList.remove('colab-df-spinner');\n",
              "      quickchartButtonEl.classList.add('colab-df-quickchart-complete');\n",
              "    }\n",
              "    (() => {\n",
              "      let quickchartButtonEl =\n",
              "        document.querySelector('#df-03839729-6b75-438a-b5df-d3764f3797dc button');\n",
              "      quickchartButtonEl.style.display =\n",
              "        google.colab.kernel.accessAllowed ? 'block' : 'none';\n",
              "    })();\n",
              "  </script>\n",
              "</div>\n",
              "    </div>\n",
              "  </div>\n"
            ]
          },
          "metadata": {},
          "execution_count": 18
        }
      ]
    },
    {
      "cell_type": "code",
      "source": [
        "# Encode sentiment labels (assuming 'score' column contains labels)\n",
        "label_encoder = LabelEncoder()\n",
        "amazon_df['label'] = label_encoder.fit_transform(amazon_df['score'])"
      ],
      "metadata": {
        "id": "R0TkqfdxqcNo"
      },
      "execution_count": 19,
      "outputs": []
    },
    {
      "cell_type": "code",
      "source": [
        "# Split the dataset into training and testing sets\n",
        "train_amazon_df, test_amazon_df = train_test_split(amazon_df, test_size=0.2, random_state=42)"
      ],
      "metadata": {
        "id": "oCYpqqfdqrfh"
      },
      "execution_count": 20,
      "outputs": []
    },
    {
      "cell_type": "code",
      "source": [
        "# Tokenize and pad sequences\n",
        "max_sequence_length = 100\n",
        "tokenizer = AutoTokenizer.from_pretrained(\"bert-base-uncased\")\n"
      ],
      "metadata": {
        "id": "nvJFRUvDrHVL"
      },
      "execution_count": 21,
      "outputs": []
    },
    {
      "cell_type": "code",
      "source": [
        "# Tokenize training data\n",
        "X_train_transformer_amazon = tokenizer(list(train_amazon_df['review']), padding=True, truncation=True, return_tensors=\"tf\", max_length=max_sequence_length)\n",
        "\n",
        "# Tokenize testing data\n",
        "X_test_transformer_amazon = tokenizer(list(test_amazon_df['review']), padding=True, truncation=True, return_tensors=\"tf\", max_length=max_sequence_length)"
      ],
      "metadata": {
        "id": "kVsTVf8crJVE"
      },
      "execution_count": 22,
      "outputs": []
    },
    {
      "cell_type": "code",
      "source": [
        "# Build the Transformer model\n",
        "model_transformer_amazon = TFBertForSequenceClassification.from_pretrained(\"bert-base-uncased\")\n",
        "input_ids_amazon = Input(shape=(max_sequence_length,), dtype=tf.int32)\n",
        "outputs_amazon = model_transformer_amazon(input_ids_amazon)['logits']\n",
        "outputs_amazon = Dense(1, activation='sigmoid')(outputs_amazon)\n",
        "\n",
        "model_amazon = Model(inputs=input_ids_amazon, outputs=outputs_amazon)\n"
      ],
      "metadata": {
        "colab": {
          "base_uri": "https://localhost:8080/"
        },
        "id": "QezG7Wl1rM3c",
        "outputId": "ef26f4f7-a50b-4568-a218-d1c063e335a5"
      },
      "execution_count": 23,
      "outputs": [
        {
          "output_type": "stream",
          "name": "stderr",
          "text": [
            "All PyTorch model weights were used when initializing TFBertForSequenceClassification.\n",
            "\n",
            "Some weights or buffers of the TF 2.0 model TFBertForSequenceClassification were not initialized from the PyTorch model and are newly initialized: ['classifier.weight', 'classifier.bias']\n",
            "You should probably TRAIN this model on a down-stream task to be able to use it for predictions and inference.\n"
          ]
        }
      ]
    },
    {
      "cell_type": "code",
      "source": [
        "# Compile the model\n",
        "model_amazon.compile(optimizer=Adam(lr=2e-5), loss='binary_crossentropy', metrics=['accuracy'])\n",
        "\n",
        "# Train the model\n",
        "model_amazon.fit(X_train_transformer_amazon['input_ids'], train_amazon_df['label'].values, epochs=5, batch_size=32, validation_split=0.2)"
      ],
      "metadata": {
        "colab": {
          "base_uri": "https://localhost:8080/"
        },
        "id": "wqAyjZ53rP8Y",
        "outputId": "4d470b90-034c-4e80-ebba-4dec45c06ae0"
      },
      "execution_count": 24,
      "outputs": [
        {
          "output_type": "stream",
          "name": "stderr",
          "text": [
            "WARNING:absl:`lr` is deprecated in Keras optimizer, please use `learning_rate` or use the legacy optimizer, e.g.,tf.keras.optimizers.legacy.Adam.\n"
          ]
        },
        {
          "output_type": "stream",
          "name": "stdout",
          "text": [
            "Epoch 1/5\n",
            "200/200 [==============================] - 170s 652ms/step - loss: 0.7015 - accuracy: 0.4931 - val_loss: 0.6959 - val_accuracy: 0.4481\n",
            "Epoch 2/5\n",
            "200/200 [==============================] - 131s 655ms/step - loss: 0.7001 - accuracy: 0.5013 - val_loss: 0.6878 - val_accuracy: 0.5519\n",
            "Epoch 3/5\n",
            "200/200 [==============================] - 133s 665ms/step - loss: 0.6989 - accuracy: 0.4977 - val_loss: 0.6953 - val_accuracy: 0.4481\n",
            "Epoch 4/5\n",
            "200/200 [==============================] - 133s 666ms/step - loss: 0.6986 - accuracy: 0.4895 - val_loss: 0.6969 - val_accuracy: 0.4481\n",
            "Epoch 5/5\n",
            "200/200 [==============================] - 133s 666ms/step - loss: 0.6955 - accuracy: 0.4973 - val_loss: 0.6952 - val_accuracy: 0.4481\n"
          ]
        },
        {
          "output_type": "execute_result",
          "data": {
            "text/plain": [
              "<keras.src.callbacks.History at 0x7e8b4009ae00>"
            ]
          },
          "metadata": {},
          "execution_count": 24
        }
      ]
    },
    {
      "cell_type": "code",
      "source": [
        "# Evaluate the model\n",
        "accuracy_amazon = model_amazon.evaluate(X_test_transformer_amazon['input_ids'], test_amazon_df['label'].values)[1]\n",
        "print(f\"Accuracy: {accuracy_amazon}\")"
      ],
      "metadata": {
        "colab": {
          "base_uri": "https://localhost:8080/"
        },
        "id": "1PCKkNo1rW2K",
        "outputId": "74fc8b13-a88b-43b5-ca04-97c7aa002dd4"
      },
      "execution_count": 25,
      "outputs": [
        {
          "output_type": "stream",
          "name": "stdout",
          "text": [
            "63/63 [==============================] - 17s 213ms/step - loss: 0.6940 - accuracy: 0.4815\n",
            "Accuracy: 0.4814999997615814\n"
          ]
        }
      ]
    },
    {
      "cell_type": "code",
      "source": [
        "# Define learning rate and other hyperparameters\n",
        "learning_rate = 2e-5\n",
        "epochs = 5\n",
        "batch_size = 32"
      ],
      "metadata": {
        "id": "D8OiKgkPOwNY"
      },
      "execution_count": 27,
      "outputs": []
    },
    {
      "cell_type": "code",
      "source": [
        "# Build the Transformer model\n",
        "model_transformer_amazon = TFBertForSequenceClassification.from_pretrained(\"bert-base-uncased\")\n",
        "input_ids_amazon = Input(shape=(max_sequence_length,), dtype=tf.int32)\n",
        "outputs_amazon = model_transformer_amazon(input_ids_amazon)['logits']\n",
        "outputs_amazon = Dense(1, activation='sigmoid')(outputs_amazon)\n",
        "\n",
        "model_amazon = Model(inputs=input_ids_amazon, outputs=outputs_amazon)"
      ],
      "metadata": {
        "colab": {
          "base_uri": "https://localhost:8080/"
        },
        "id": "CJfGDLTzO2PI",
        "outputId": "c0dafa4c-05c6-4b82-bc8d-c2045dfa0098"
      },
      "execution_count": 28,
      "outputs": [
        {
          "output_type": "stream",
          "name": "stderr",
          "text": [
            "All PyTorch model weights were used when initializing TFBertForSequenceClassification.\n",
            "\n",
            "Some weights or buffers of the TF 2.0 model TFBertForSequenceClassification were not initialized from the PyTorch model and are newly initialized: ['classifier.weight', 'classifier.bias']\n",
            "You should probably TRAIN this model on a down-stream task to be able to use it for predictions and inference.\n"
          ]
        }
      ]
    },
    {
      "cell_type": "code",
      "source": [
        "# Compile the model with the Adam optimizer and a custom learning rate\n",
        "optimizer = Adam(learning_rate=learning_rate)\n",
        "model_amazon.compile(optimizer=optimizer, loss='binary_crossentropy', metrics=['accuracy'])"
      ],
      "metadata": {
        "id": "KYCfuVvaO5W2"
      },
      "execution_count": 29,
      "outputs": []
    },
    {
      "cell_type": "code",
      "source": [
        "# Implement early stopping to prevent overfitting\n",
        "early_stopping = EarlyStopping(monitor='val_loss', patience=3, restore_best_weights=True)"
      ],
      "metadata": {
        "id": "-eFVgKUVPETV"
      },
      "execution_count": 30,
      "outputs": []
    },
    {
      "cell_type": "code",
      "source": [
        "\n",
        "# Save the best model during training\n",
        "model_checkpoint = ModelCheckpoint('best_model.h5', save_best_only=True)"
      ],
      "metadata": {
        "id": "eo24So5FPGxx"
      },
      "execution_count": 31,
      "outputs": []
    },
    {
      "cell_type": "code",
      "source": [
        "# Train the model with the modified hyperparameters and callbacks\n",
        "history = model_amazon.fit(\n",
        "    X_train_transformer_amazon['input_ids'],\n",
        "    train_amazon_df['label'].values,\n",
        "    epochs=epochs,\n",
        "    batch_size=batch_size,\n",
        "    validation_split=0.2,\n",
        "    callbacks=[early_stopping, model_checkpoint]\n",
        ")\n"
      ],
      "metadata": {
        "colab": {
          "base_uri": "https://localhost:8080/"
        },
        "id": "Ghx6pafjPJI-",
        "outputId": "103420ff-2de5-4f0f-e2b1-a4ee16e57c55"
      },
      "execution_count": 32,
      "outputs": [
        {
          "output_type": "stream",
          "name": "stdout",
          "text": [
            "Epoch 1/5\n",
            "200/200 [==============================] - 184s 732ms/step - loss: 0.3168 - accuracy: 0.8620 - val_loss: 0.1901 - val_accuracy: 0.9294\n",
            "Epoch 2/5\n",
            "200/200 [==============================] - 150s 749ms/step - loss: 0.1406 - accuracy: 0.9544 - val_loss: 0.1868 - val_accuracy: 0.9319\n",
            "Epoch 3/5\n",
            "200/200 [==============================] - 132s 662ms/step - loss: 0.0734 - accuracy: 0.9772 - val_loss: 0.2139 - val_accuracy: 0.9244\n",
            "Epoch 4/5\n",
            "200/200 [==============================] - 133s 667ms/step - loss: 0.0497 - accuracy: 0.9850 - val_loss: 0.2429 - val_accuracy: 0.9269\n",
            "Epoch 5/5\n",
            "200/200 [==============================] - 134s 670ms/step - loss: 0.0258 - accuracy: 0.9931 - val_loss: 0.2884 - val_accuracy: 0.9275\n"
          ]
        }
      ]
    },
    {
      "cell_type": "code",
      "source": [
        "# Evaluate the model on the test set\n",
        "accuracy_amazon = model_amazon.evaluate(X_test_transformer_amazon['input_ids'], test_amazon_df['label'].values)[1]\n",
        "print(f\"Accuracy: {accuracy_amazon}\")"
      ],
      "metadata": {
        "colab": {
          "base_uri": "https://localhost:8080/"
        },
        "id": "jOZmaaelPQSZ",
        "outputId": "49ca9541-ec9e-4c56-a66b-61ef9ef42033"
      },
      "execution_count": 33,
      "outputs": [
        {
          "output_type": "stream",
          "name": "stdout",
          "text": [
            "63/63 [==============================] - 17s 212ms/step - loss: 0.1983 - accuracy: 0.9265\n",
            "Accuracy: 0.9265000224113464\n"
          ]
        }
      ]
    },
    {
      "cell_type": "code",
      "source": [],
      "metadata": {
        "id": "q-677WhePZ7k"
      },
      "execution_count": 33,
      "outputs": []
    }
  ]
}